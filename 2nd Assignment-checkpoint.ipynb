{
 "cells": [
  {
   "cell_type": "markdown",
   "id": "ac376cf0",
   "metadata": {},
   "source": [
    "Q1.  How can we store a s1ngle quote (‘) as a str1ng 1n a var1able?"
   ]
  },
  {
   "cell_type": "code",
   "execution_count": 3,
   "id": "86e30dbc",
   "metadata": {},
   "outputs": [
    {
     "name": "stdout",
     "output_type": "stream",
     "text": [
      "This is my pathon class\n"
     ]
    }
   ],
   "source": [
    "a='This is my pathon class'\n",
    "print(a)"
   ]
  },
  {
   "cell_type": "markdown",
   "id": "7cd48556",
   "metadata": {},
   "source": [
    "Q2. Refer the below var1able:\n",
    "   x = 'a'\n",
    "  Here, 1s x a character type or str1ng type var1able? Support your answer with an explanation\n",
    "Ans=  based on the value assigned to x, which is a sequence of characters enclosed within single       quotes, we can conclude that x is a string type variable.\n",
    "  "
   ]
  },
  {
   "cell_type": "markdown",
   "id": "75356c4b",
   "metadata": {},
   "source": [
    "# 3"
   ]
  },
  {
   "cell_type": "code",
   "execution_count": 15,
   "id": "8dde1932",
   "metadata": {},
   "outputs": [
    {
     "data": {
      "text/plain": [
       "str"
      ]
     },
     "execution_count": 15,
     "metadata": {},
     "output_type": "execute_result"
    }
   ],
   "source": [
    "p='Welcome to Python foundation course'\n",
    "type(p)"
   ]
  },
  {
   "cell_type": "code",
   "execution_count": 17,
   "id": "ad4c7433",
   "metadata": {},
   "outputs": [
    {
     "data": {
      "text/plain": [
       "18"
      ]
     },
     "execution_count": 17,
     "metadata": {},
     "output_type": "execute_result"
    }
   ],
   "source": [
    "p.find('f')                # it is use to find the index number at which positions ."
   ]
  },
  {
   "cell_type": "code",
   "execution_count": 21,
   "id": "085e13be",
   "metadata": {},
   "outputs": [
    {
     "data": {
      "text/plain": [
       "2"
      ]
     },
     "execution_count": 21,
     "metadata": {},
     "output_type": "execute_result"
    }
   ],
   "source": [
    "p.count('c')               # it is use to count the character whic is how many times is appear."
   ]
  },
  {
   "cell_type": "code",
   "execution_count": 24,
   "id": "c38259eb",
   "metadata": {},
   "outputs": [
    {
     "data": {
      "text/plain": [
       "35"
      ]
     },
     "execution_count": 24,
     "metadata": {},
     "output_type": "execute_result"
    }
   ],
   "source": [
    "len(p)"
   ]
  },
  {
   "cell_type": "code",
   "execution_count": 25,
   "id": "b30b7302",
   "metadata": {},
   "outputs": [
    {
     "name": "stdout",
     "output_type": "stream",
     "text": [
      "This is my python class.I am student\n"
     ]
    }
   ],
   "source": [
    "a='This is my python class'             # Here we will use \".\" to concatenate two strings\n",
    "b='I am student'\n",
    "c= a+\".\"+ b\n",
    "print(c)"
   ]
  },
  {
   "cell_type": "markdown",
   "id": "4fff6593",
   "metadata": {},
   "source": [
    "# Q4"
   ]
  },
  {
   "cell_type": "markdown",
   "id": "6229437a",
   "metadata": {},
   "source": [
    "Q4Q For the var1able: word = 'PanaJ1@12256'\n",
    "Calculate the follow1ng:\n",
    "(a) Total number of alphabets in lowercase\n",
    "(b) Total number of alphabets in uppercase\n",
    "(c) Total number of numerical in string"
   ]
  },
  {
   "cell_type": "code",
   "execution_count": 26,
   "id": "9599f72c",
   "metadata": {},
   "outputs": [
    {
     "data": {
      "text/plain": [
       "'panaj1@12256'"
      ]
     },
     "execution_count": 26,
     "metadata": {},
     "output_type": "execute_result"
    }
   ],
   "source": [
    "word = 'PanaJ1@12256'\n",
    "word.lower()"
   ]
  },
  {
   "cell_type": "code",
   "execution_count": 27,
   "id": "f353478e",
   "metadata": {},
   "outputs": [
    {
     "data": {
      "text/plain": [
       "'PANAJ1@12256'"
      ]
     },
     "execution_count": 27,
     "metadata": {},
     "output_type": "execute_result"
    }
   ],
   "source": [
    "word.upper()"
   ]
  },
  {
   "cell_type": "code",
   "execution_count": 29,
   "id": "d827b11b",
   "metadata": {},
   "outputs": [
    {
     "data": {
      "text/plain": [
       "False"
      ]
     },
     "execution_count": 29,
     "metadata": {},
     "output_type": "execute_result"
    }
   ],
   "source": [
    "word.isdigit()"
   ]
  },
  {
   "cell_type": "markdown",
   "id": "359f00ab",
   "metadata": {},
   "source": [
    "# Q5"
   ]
  },
  {
   "cell_type": "markdown",
   "id": "5ff57f9c",
   "metadata": {},
   "source": [
    "Q5= Write a code to store a numerical value 1nside a variable then convert it into string ."
   ]
  },
  {
   "cell_type": "code",
   "execution_count": 31,
   "id": "8779249b",
   "metadata": {},
   "outputs": [
    {
     "name": "stdout",
     "output_type": "stream",
     "text": [
      "type of variable <class 'int'>\n",
      "type after conversion <class 'str'>\n"
     ]
    }
   ],
   "source": [
    "t=10\n",
    "print(\"type of variable\",type(t))\n",
    "converted_t = str(t)\n",
    "print(\"type after conversion\",type(converted_t))"
   ]
  },
  {
   "cell_type": "code",
   "execution_count": null,
   "id": "7219ceca",
   "metadata": {},
   "outputs": [],
   "source": []
  }
 ],
 "metadata": {
  "kernelspec": {
   "display_name": "Python 3 (ipykernel)",
   "language": "python",
   "name": "python3"
  },
  "language_info": {
   "codemirror_mode": {
    "name": "ipython",
    "version": 3
   },
   "file_extension": ".py",
   "mimetype": "text/x-python",
   "name": "python",
   "nbconvert_exporter": "python",
   "pygments_lexer": "ipython3",
   "version": "3.9.12"
  }
 },
 "nbformat": 4,
 "nbformat_minor": 5
}
