{
 "cells": [
  {
   "cell_type": "markdown",
   "id": "f71d8a4f",
   "metadata": {},
   "source": [
    "Q1. Write all the conventions being followed while declaring a variable.\n",
    "Ans= A variable name must start with a letter or the underscore character\n",
    "     A variable name cannot start with a number\n",
    "     A variable name can only contain alpha-numeric characters and underscores (A-z, 0-9, and _ )\n",
    "     Variable names are case-sensitive (age, Age and AGE are three different variables)"
   ]
  },
  {
   "cell_type": "markdown",
   "id": "0c5d2336",
   "metadata": {},
   "source": [
    "Q2. What will happen if we declare a restricted keyword as a variable?"
   ]
  },
  {
   "cell_type": "code",
   "execution_count": 1,
   "id": "9ad925bb",
   "metadata": {},
   "outputs": [
    {
     "ename": "SyntaxError",
     "evalue": "invalid syntax (1162659234.py, line 1)",
     "output_type": "error",
     "traceback": [
      "\u001b[1;36m  Input \u001b[1;32mIn [1]\u001b[1;36m\u001b[0m\n\u001b[1;33m    t= and\u001b[0m\n\u001b[1;37m       ^\u001b[0m\n\u001b[1;31mSyntaxError\u001b[0m\u001b[1;31m:\u001b[0m invalid syntax\n"
     ]
    }
   ],
   "source": [
    "t= and                          # Here and is restricted/reserved keyword\n",
    "print(t)"
   ]
  },
  {
   "cell_type": "markdown",
   "id": "0fd40aed",
   "metadata": {},
   "source": [
    "Q3. Can we actually declare a string as a variable name?\n",
    "Ans= String Into Variable Name in Python Using the vars() Function. Instead of using the locals()      and the globals() function to convert a string to a variable name in python, we can also use      the vars() function. The vars() function, when executed in the global scope, behaves just        like the globals() function."
   ]
  },
  {
   "cell_type": "code",
   "execution_count": 1,
   "id": "3b93b137",
   "metadata": {},
   "outputs": [
    {
     "name": "stdout",
     "output_type": "stream",
     "text": [
      "The value in myVar is: 5\n"
     ]
    }
   ],
   "source": [
    "Rishi = 5\n",
    "print(\"The value in myVar is:\",Rishi)"
   ]
  },
  {
   "cell_type": "markdown",
   "id": "cefab872",
   "metadata": {},
   "source": [
    "Q4. Is it possible for us to declare “_” as a variable? If so, then write an example of it.\n",
    "Ans = Yes it is possible to declare which as shown in below."
   ]
  },
  {
   "cell_type": "code",
   "execution_count": 2,
   "id": "dc4c7492",
   "metadata": {},
   "outputs": [
    {
     "name": "stdout",
     "output_type": "stream",
     "text": [
      "40\n"
     ]
    }
   ],
   "source": [
    "no_of_stds = 40# Assigning the value 40 to the variable 'no_of_stds'\n",
    "print(no_of_stds)"
   ]
  },
  {
   "cell_type": "markdown",
   "id": "b62dab7a",
   "metadata": {},
   "source": [
    "Q5. Using an example, explain how the variables in python are dynamic in nature.\n",
    "Ans= Python is a dynamically typed language. This means that the Python interpreter does type          checking only as code runs, and the type of a variable is allowed to change over its              lifetime."
   ]
  },
  {
   "cell_type": "markdown",
   "id": "51f97dba",
   "metadata": {},
   "source": [
    "# Examples"
   ]
  },
  {
   "cell_type": "code",
   "execution_count": 4,
   "id": "97f42dc5",
   "metadata": {},
   "outputs": [
    {
     "name": "stdout",
     "output_type": "stream",
     "text": [
      "<class 'list'>\n",
      "<class 'bool'>\n"
     ]
    }
   ],
   "source": [
    "## assigning a value to a variable\n",
    "x = [1, 2, 3]\n",
    "\n",
    "## x is a list here\n",
    "print(type(x))\n",
    "\n",
    "## reassigning a value to the 'x'\n",
    "x = True\n",
    "\n",
    "## x is a bool here\n",
    "print(type(x))\n",
    "## we can also redefine 'x' as many times as we want"
   ]
  },
  {
   "cell_type": "code",
   "execution_count": null,
   "id": "367effeb",
   "metadata": {},
   "outputs": [],
   "source": []
  }
 ],
 "metadata": {
  "kernelspec": {
   "display_name": "Python 3 (ipykernel)",
   "language": "python",
   "name": "python3"
  },
  "language_info": {
   "codemirror_mode": {
    "name": "ipython",
    "version": 3
   },
   "file_extension": ".py",
   "mimetype": "text/x-python",
   "name": "python",
   "nbconvert_exporter": "python",
   "pygments_lexer": "ipython3",
   "version": "3.9.12"
  }
 },
 "nbformat": 4,
 "nbformat_minor": 5
}
