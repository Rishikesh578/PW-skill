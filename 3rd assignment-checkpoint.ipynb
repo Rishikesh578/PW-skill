{
 "cells": [
  {
   "cell_type": "markdown",
   "id": "8f2b3ab8",
   "metadata": {},
   "source": [
    "Q1. Create an empty list."
   ]
  },
  {
   "cell_type": "code",
   "execution_count": 1,
   "id": "19c87780",
   "metadata": {},
   "outputs": [],
   "source": [
    "a= [2,3,4,5,\"rishi\",True,3+4j]"
   ]
  },
  {
   "cell_type": "code",
   "execution_count": 2,
   "id": "cf3f5ac8",
   "metadata": {},
   "outputs": [],
   "source": [
    "a=[]        # An empty list."
   ]
  },
  {
   "cell_type": "markdown",
   "id": "6f8a1b98",
   "metadata": {},
   "source": [
    "Q2. Create a list and add an element to the end of this list."
   ]
  },
  {
   "cell_type": "code",
   "execution_count": 17,
   "id": "83801238",
   "metadata": {},
   "outputs": [],
   "source": [
    "b= [5,3,6,4,7,\"rishi\",True,5+8j]"
   ]
  },
  {
   "cell_type": "code",
   "execution_count": 18,
   "id": "baf83fe0",
   "metadata": {},
   "outputs": [],
   "source": [
    "b.extend([8,3])                           # add element to the end of list."
   ]
  },
  {
   "cell_type": "code",
   "execution_count": 19,
   "id": "9fd5ec61",
   "metadata": {},
   "outputs": [
    {
     "data": {
      "text/plain": [
       "[5, 3, 6, 4, 7, 'rishi', True, (5+8j), 8, 3]"
      ]
     },
     "execution_count": 19,
     "metadata": {},
     "output_type": "execute_result"
    }
   ],
   "source": [
    "b"
   ]
  },
  {
   "cell_type": "markdown",
   "id": "e54e2588",
   "metadata": {},
   "source": [
    "Q3. For the above created list print the last element."
   ]
  },
  {
   "cell_type": "code",
   "execution_count": 20,
   "id": "7b5f2e07",
   "metadata": {},
   "outputs": [
    {
     "data": {
      "text/plain": [
       "[5, 3, 6, 4, 7, 'rishi', True, (5+8j), 8, 3]"
      ]
     },
     "execution_count": 20,
     "metadata": {},
     "output_type": "execute_result"
    }
   ],
   "source": [
    "b"
   ]
  },
  {
   "cell_type": "code",
   "execution_count": 21,
   "id": "8750ab9f",
   "metadata": {},
   "outputs": [],
   "source": [
    "t=[5, 3, 6, 4, 7, 'rishi', True, (5+8j), 8, 3]"
   ]
  },
  {
   "cell_type": "code",
   "execution_count": 38,
   "id": "ed98dda0",
   "metadata": {},
   "outputs": [
    {
     "name": "stdout",
     "output_type": "stream",
     "text": [
      "3\n"
     ]
    }
   ],
   "source": [
    "print(t[-1])             # last element of the list "
   ]
  },
  {
   "cell_type": "markdown",
   "id": "03d77443",
   "metadata": {},
   "source": [
    "Q4. Reverse the above created list."
   ]
  },
  {
   "cell_type": "code",
   "execution_count": 39,
   "id": "84ea0c01",
   "metadata": {},
   "outputs": [
    {
     "name": "stdout",
     "output_type": "stream",
     "text": [
      "[3, 8, (5+8j), True, 'rishi', 7, 4, 6, 3, 5]\n"
     ]
    }
   ],
   "source": [
    "print(t[::-1])               # reverse the list."
   ]
  },
  {
   "cell_type": "markdown",
   "id": "1f5956a1",
   "metadata": {},
   "source": [
    "Q5. Sort the above created list."
   ]
  },
  {
   "cell_type": "code",
   "execution_count": 41,
   "id": "3cd1d066",
   "metadata": {},
   "outputs": [
    {
     "data": {
      "text/plain": [
       "[5, 3, 6, 4, 7, 'rishi', True, (5+8j), 8, 3]"
      ]
     },
     "execution_count": 41,
     "metadata": {},
     "output_type": "execute_result"
    }
   ],
   "source": [
    "t"
   ]
  },
  {
   "cell_type": "code",
   "execution_count": 45,
   "id": "a34ccc4a",
   "metadata": {},
   "outputs": [
    {
     "ename": "TypeError",
     "evalue": "'<' not supported between instances of 'str' and 'int'",
     "output_type": "error",
     "traceback": [
      "\u001b[1;31m---------------------------------------------------------------------------\u001b[0m",
      "\u001b[1;31mTypeError\u001b[0m                                 Traceback (most recent call last)",
      "Input \u001b[1;32mIn [45]\u001b[0m, in \u001b[0;36m<cell line: 1>\u001b[1;34m()\u001b[0m\n\u001b[1;32m----> 1\u001b[0m \u001b[43mt\u001b[49m\u001b[38;5;241;43m.\u001b[39;49m\u001b[43msort\u001b[49m\u001b[43m(\u001b[49m\u001b[43m)\u001b[49m\n",
      "\u001b[1;31mTypeError\u001b[0m: '<' not supported between instances of 'str' and 'int'"
     ]
    }
   ],
   "source": [
    "t.sort()"
   ]
  },
  {
   "cell_type": "code",
   "execution_count": 47,
   "id": "52ee8f81",
   "metadata": {},
   "outputs": [],
   "source": [
    "p= [3,5,6,9,2,6]"
   ]
  },
  {
   "cell_type": "code",
   "execution_count": 50,
   "id": "786e64a6",
   "metadata": {},
   "outputs": [
    {
     "data": {
      "text/plain": [
       "[2, 3, 5, 6, 6, 9]"
      ]
     },
     "execution_count": 50,
     "metadata": {},
     "output_type": "execute_result"
    }
   ],
   "source": [
    "p.sort()                             #sort the elements\n",
    "p"
   ]
  },
  {
   "cell_type": "markdown",
   "id": "c169f5b9",
   "metadata": {},
   "source": [
    "Q6. Create a list of your top three favorite movies, then print the second movie title."
   ]
  },
  {
   "cell_type": "code",
   "execution_count": 54,
   "id": "f74a29d4",
   "metadata": {},
   "outputs": [
    {
     "name": "stdout",
     "output_type": "stream",
     "text": [
      "Brahmāstra = Title of the story of Shiva who sets out in search of love and self-discovery. During his journey, he has to face many evil forces\n"
     ]
    }
   ],
   "source": [
    "movies_name= [\"Sholay\",\"Brahmāstra\",\"KGF\"]\n",
    "print(movies_name[1],\"= Title of the story of Shiva who sets out in search of love and self-discovery. During his journey, he has to face many evil forces\")"
   ]
  },
  {
   "cell_type": "markdown",
   "id": "7f60d92a",
   "metadata": {},
   "source": [
    "Q7. Create a list of your favorite animals, then add a new animal to the list and print the updated list."
   ]
  },
  {
   "cell_type": "code",
   "execution_count": 55,
   "id": "9984400c",
   "metadata": {},
   "outputs": [],
   "source": [
    "Animals=[\"lion\",\"Tiger\",\"Elephant\",\"polarbear\",\"kangaroo\"]"
   ]
  },
  {
   "cell_type": "code",
   "execution_count": 56,
   "id": "3359432b",
   "metadata": {},
   "outputs": [],
   "source": [
    "Animals.append(\"Zebra\")                          # Add new Animal (Zebra)"
   ]
  },
  {
   "cell_type": "code",
   "execution_count": 58,
   "id": "85ccaf0b",
   "metadata": {},
   "outputs": [
    {
     "data": {
      "text/plain": [
       "['lion', 'Tiger', 'Elephant', 'polarbear', 'kangaroo', 'Zebra']"
      ]
     },
     "execution_count": 58,
     "metadata": {},
     "output_type": "execute_result"
    }
   ],
   "source": [
    "Animals                                          # updated list."
   ]
  },
  {
   "cell_type": "markdown",
   "id": "5c777c47",
   "metadata": {},
   "source": [
    "Q8. Create a list of your favorite cities, then use the index() method to find the position of a specific city\n",
    "on the list and print it."
   ]
  },
  {
   "cell_type": "code",
   "execution_count": 59,
   "id": "5f71136d",
   "metadata": {},
   "outputs": [],
   "source": [
    "cities=[\"Uttrakhand\",\"Manali\",\"Shimla\",\"Delhi\",\"Greater Noida\"]"
   ]
  },
  {
   "cell_type": "code",
   "execution_count": 60,
   "id": "6ce849af",
   "metadata": {},
   "outputs": [
    {
     "data": {
      "text/plain": [
       "1"
      ]
     },
     "execution_count": 60,
     "metadata": {},
     "output_type": "execute_result"
    }
   ],
   "source": [
    "cities.index(\"Manali\")"
   ]
  },
  {
   "cell_type": "code",
   "execution_count": 62,
   "id": "0ba1c010",
   "metadata": {},
   "outputs": [
    {
     "data": {
      "text/plain": [
       "4"
      ]
     },
     "execution_count": 62,
     "metadata": {},
     "output_type": "execute_result"
    }
   ],
   "source": [
    "cities.index(\"Greater Noida\")"
   ]
  },
  {
   "cell_type": "code",
   "execution_count": 64,
   "id": "3781c7f4",
   "metadata": {},
   "outputs": [
    {
     "data": {
      "text/plain": [
       "2"
      ]
     },
     "execution_count": 64,
     "metadata": {},
     "output_type": "execute_result"
    }
   ],
   "source": [
    "cities.index(\"Shimla\")"
   ]
  },
  {
   "cell_type": "code",
   "execution_count": 65,
   "id": "07a36347",
   "metadata": {},
   "outputs": [
    {
     "data": {
      "text/plain": [
       "3"
      ]
     },
     "execution_count": 65,
     "metadata": {},
     "output_type": "execute_result"
    }
   ],
   "source": [
    "cities.index(\"Delhi\")"
   ]
  },
  {
   "cell_type": "code",
   "execution_count": null,
   "id": "aec907c8",
   "metadata": {},
   "outputs": [],
   "source": []
  }
 ],
 "metadata": {
  "kernelspec": {
   "display_name": "Python 3 (ipykernel)",
   "language": "python",
   "name": "python3"
  },
  "language_info": {
   "codemirror_mode": {
    "name": "ipython",
    "version": 3
   },
   "file_extension": ".py",
   "mimetype": "text/x-python",
   "name": "python",
   "nbconvert_exporter": "python",
   "pygments_lexer": "ipython3",
   "version": "3.9.12"
  }
 },
 "nbformat": 4,
 "nbformat_minor": 5
}
