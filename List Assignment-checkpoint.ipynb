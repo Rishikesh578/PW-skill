{
 "cells": [
  {
   "cell_type": "markdown",
   "id": "36ff0e30",
   "metadata": {},
   "source": [
    "Q1. What is the syntax for adding an element to a list in Python?"
   ]
  },
  {
   "cell_type": "code",
   "execution_count": 1,
   "id": "fd32f374",
   "metadata": {},
   "outputs": [],
   "source": [
    "l=[2,9,4,7,\"Rishi\",True,3+8j]"
   ]
  },
  {
   "cell_type": "code",
   "execution_count": 2,
   "id": "2e9e0780",
   "metadata": {},
   "outputs": [],
   "source": [
    "l[4]=\"Banty\"           # add element \"banty\" to the list "
   ]
  },
  {
   "cell_type": "code",
   "execution_count": 3,
   "id": "93ccf55b",
   "metadata": {},
   "outputs": [
    {
     "data": {
      "text/plain": [
       "[2, 9, 4, 7, 'Banty', True, (3+8j)]"
      ]
     },
     "execution_count": 3,
     "metadata": {},
     "output_type": "execute_result"
    }
   ],
   "source": [
    "l"
   ]
  },
  {
   "cell_type": "markdown",
   "id": "904ee87f",
   "metadata": {},
   "source": [
    "Q2. What is the difference between remove() and pop() functions in Python?"
   ]
  },
  {
   "cell_type": "markdown",
   "id": "bcb2e516",
   "metadata": {},
   "source": [
    "remove()= It is use to remove an element at any place in the List.\n",
    "pop()= It is use to remove the element only at the end on the list."
   ]
  },
  {
   "cell_type": "markdown",
   "id": "645c9ddc",
   "metadata": {},
   "source": [
    "Q3. Write a Python code to sort a list in descending order."
   ]
  },
  {
   "cell_type": "code",
   "execution_count": 14,
   "id": "07d6b9f9",
   "metadata": {},
   "outputs": [],
   "source": [
    "p=[2, 9, 4, 7, ]"
   ]
  },
  {
   "cell_type": "code",
   "execution_count": 15,
   "id": "6d7fd018",
   "metadata": {},
   "outputs": [
    {
     "data": {
      "text/plain": [
       "list"
      ]
     },
     "execution_count": 15,
     "metadata": {},
     "output_type": "execute_result"
    }
   ],
   "source": [
    "type(p)"
   ]
  },
  {
   "cell_type": "code",
   "execution_count": 16,
   "id": "c95fd517",
   "metadata": {},
   "outputs": [],
   "source": [
    "p.sort(reverse=True)"
   ]
  },
  {
   "cell_type": "code",
   "execution_count": 17,
   "id": "2f49e266",
   "metadata": {},
   "outputs": [
    {
     "data": {
      "text/plain": [
       "[9, 7, 4, 2]"
      ]
     },
     "execution_count": 17,
     "metadata": {},
     "output_type": "execute_result"
    }
   ],
   "source": [
    "p"
   ]
  },
  {
   "cell_type": "markdown",
   "id": "c5b98d5f",
   "metadata": {},
   "source": [
    "Q4. Write a Python code to count the number of occurrences of an element in a list."
   ]
  },
  {
   "cell_type": "code",
   "execution_count": 21,
   "id": "ac7bf1c4",
   "metadata": {},
   "outputs": [],
   "source": [
    "t=(2,4,\"rishi\", 3, 4,4, 5, 'rishi', True, (5+3j))"
   ]
  },
  {
   "cell_type": "code",
   "execution_count": 19,
   "id": "20331c04",
   "metadata": {},
   "outputs": [
    {
     "data": {
      "text/plain": [
       "2"
      ]
     },
     "execution_count": 19,
     "metadata": {},
     "output_type": "execute_result"
    }
   ],
   "source": [
    "t.count(\"rishi\")"
   ]
  },
  {
   "cell_type": "code",
   "execution_count": 22,
   "id": "46230ada",
   "metadata": {},
   "outputs": [
    {
     "data": {
      "text/plain": [
       "3"
      ]
     },
     "execution_count": 22,
     "metadata": {},
     "output_type": "execute_result"
    }
   ],
   "source": [
    "t.count(4)"
   ]
  },
  {
   "cell_type": "markdown",
   "id": "26066d95",
   "metadata": {},
   "source": [
    "Q5. Write a Python code to reverse a list."
   ]
  },
  {
   "cell_type": "code",
   "execution_count": 29,
   "id": "28b20a6a",
   "metadata": {},
   "outputs": [],
   "source": [
    "t=(2,4,\"rishi\", 3, 4,4, 5, 'rishi', True, (5+3j))"
   ]
  },
  {
   "cell_type": "code",
   "execution_count": 28,
   "id": "fdd0e727",
   "metadata": {},
   "outputs": [
    {
     "data": {
      "text/plain": [
       "((5+3j), True, 'rishi', 5, 4, 4, 3, 'rishi', 4, 2)"
      ]
     },
     "execution_count": 28,
     "metadata": {},
     "output_type": "execute_result"
    }
   ],
   "source": [
    "t[::-1]"
   ]
  },
  {
   "cell_type": "code",
   "execution_count": null,
   "id": "5f006f5b",
   "metadata": {},
   "outputs": [],
   "source": []
  }
 ],
 "metadata": {
  "kernelspec": {
   "display_name": "Python 3 (ipykernel)",
   "language": "python",
   "name": "python3"
  },
  "language_info": {
   "codemirror_mode": {
    "name": "ipython",
    "version": 3
   },
   "file_extension": ".py",
   "mimetype": "text/x-python",
   "name": "python",
   "nbconvert_exporter": "python",
   "pygments_lexer": "ipython3",
   "version": "3.9.12"
  }
 },
 "nbformat": 4,
 "nbformat_minor": 5
}
